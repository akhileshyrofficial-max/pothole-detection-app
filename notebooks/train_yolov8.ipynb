from ultralytics import YOLO

# Load a pretrained YOLOv8 model
model = YOLO('yolov8n.pt')

# Train on your dataset (update path to data.yaml)
model.train(data='data/data.yaml', epochs=50, imgsz=640)

# Evaluate model
metrics = model.val()

# Export model
model.export(format='onnx')
