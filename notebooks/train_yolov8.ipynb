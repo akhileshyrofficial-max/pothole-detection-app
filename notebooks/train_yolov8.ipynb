{
  "cells": [
    {
      "cell_type": "code",
      "execution_count": null,
      "metadata": {},
      "outputs": [],
      "source": [
        "from ultralytics import YOLO\n",
        "\n",
        "# Load a pretrained YOLOv8 model\n",
        "model = YOLO('yolov8n.pt')\n",
        "\n",
        "# Train on your dataset (update path to data.yaml)\n",
        "model.train(data='data/data.yaml', epochs=50, imgsz=640)\n",
        "\n",
        "# Evaluate model\n",
        "metrics = model.val()\n",
        "\n",
        "# Export model\n",
        "model.export(format='onnx')"
      ]
    }
  ],
  "metadata": {
    "kernelspec": {
      "display_name": "Python 3",
      "language": "python",
      "name": "python3"
    },
    "language_info": {
      "name": "python",
      "version": "3.10"
    }
  },
  "nbformat": 4,
  "nbformat_minor": 5
}