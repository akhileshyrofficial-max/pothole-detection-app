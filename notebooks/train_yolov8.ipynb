from ultralytics import YOLO

# Load pretrained model
model = YOLO("yolov8n.pt")

# Train
model.train(
    data="data/data.yaml",   # dataset config (train/val split)
    epochs=50,
    imgsz=640,
    batch=16
)

# Evaluate
metrics = model.val()

# Export
model.export(format="onnx")
